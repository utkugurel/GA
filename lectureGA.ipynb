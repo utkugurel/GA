{
 "cells": [
  {
   "cell_type": "code",
   "execution_count": 1,
   "id": "21abd9d9-bd35-4484-ab75-3bccb2217498",
   "metadata": {},
   "outputs": [],
   "source": [
    "import numpy as np\n",
    "from lammps import PyLammps\n",
    "from moduleGA import create_chain"
   ]
  },
  {
   "cell_type": "code",
   "execution_count": 2,
   "id": "3bca8600-3349-4620-a4ed-80ac9a6ce8ea",
   "metadata": {},
   "outputs": [
    {
     "name": "stdin",
     "output_type": "stream",
     "text": [
      "Choose type: (1 or 2) 1\n",
      "Choose type: (1 or 2) 2\n",
      "Choose type: (1 or 2) 1\n",
      "Choose type: (1 or 2) 1\n",
      "Choose type: (1 or 2) 1\n",
      "Choose type: (1 or 2) 1\n",
      "Choose type: (1 or 2) 1\n",
      "Choose type: (1 or 2) 1\n",
      "Choose type: (1 or 2) 1\n",
      "Choose type: (1 or 2) 2\n"
     ]
    },
    {
     "name": "stdout",
     "output_type": "stream",
     "text": [
      "90 beads left\n"
     ]
    },
    {
     "name": "stdin",
     "output_type": "stream",
     "text": [
      "Choose type: (1 or 2) 2\n",
      "Choose type: (1 or 2) 2\n",
      "Choose type: (1 or 2) 2\n",
      "Choose type: (1 or 2) 2\n",
      "Choose type: (1 or 2) 2\n",
      "Choose type: (1 or 2) 2\n",
      "Choose type: (1 or 2) 2\n",
      "Choose type: (1 or 2) 2\n",
      "Choose type: (1 or 2) 2\n",
      "Choose type: (1 or 2) 1\n"
     ]
    },
    {
     "name": "stdout",
     "output_type": "stream",
     "text": [
      "80 beads left\n"
     ]
    },
    {
     "name": "stdin",
     "output_type": "stream",
     "text": [
      "Choose type: (1 or 2) 1\n",
      "Choose type: (1 or 2) 1\n",
      "Choose type: (1 or 2) 1\n",
      "Choose type: (1 or 2) 1\n",
      "Choose type: (1 or 2) 1\n",
      "Choose type: (1 or 2) 1\n",
      "Choose type: (1 or 2) 1\n",
      "Choose type: (1 or 2) 2\n",
      "Choose type: (1 or 2) 2\n",
      "Choose type: (1 or 2) 2\n"
     ]
    },
    {
     "name": "stdout",
     "output_type": "stream",
     "text": [
      "70 beads left\n"
     ]
    },
    {
     "name": "stdin",
     "output_type": "stream",
     "text": [
      "Choose type: (1 or 2) 2\n",
      "Choose type: (1 or 2) 2\n",
      "Choose type: (1 or 2) 2\n",
      "Choose type: (1 or 2) 2\n",
      "Choose type: (1 or 2) 2\n",
      "Choose type: (1 or 2) 1\n",
      "Choose type: (1 or 2) 1\n",
      "Choose type: (1 or 2) 1\n",
      "Choose type: (1 or 2) 1\n",
      "Choose type: (1 or 2) 1\n"
     ]
    },
    {
     "name": "stdout",
     "output_type": "stream",
     "text": [
      "60 beads left\n"
     ]
    },
    {
     "name": "stdin",
     "output_type": "stream",
     "text": [
      "Choose type: (1 or 2) 2\n",
      "Choose type: (1 or 2) 2\n",
      "Choose type: (1 or 2) 2\n",
      "Choose type: (1 or 2) 2\n",
      "Choose type: (1 or 2) 2\n",
      "Choose type: (1 or 2) 2\n",
      "Choose type: (1 or 2) 2\n",
      "Choose type: (1 or 2) 2\n",
      "Choose type: (1 or 2) 1\n",
      "Choose type: (1 or 2) 1\n"
     ]
    },
    {
     "name": "stdout",
     "output_type": "stream",
     "text": [
      "50 beads left\n"
     ]
    },
    {
     "name": "stdin",
     "output_type": "stream",
     "text": [
      "Choose type: (1 or 2) 1\n",
      "Choose type: (1 or 2) 1\n",
      "Choose type: (1 or 2) 1\n",
      "Choose type: (1 or 2) 1\n",
      "Choose type: (1 or 2) 1\n",
      "Choose type: (1 or 2) 2\n",
      "Choose type: (1 or 2) 2\n",
      "Choose type: (1 or 2) 2\n",
      "Choose type: (1 or 2) 2\n",
      "Choose type: (1 or 2) 2\n"
     ]
    },
    {
     "name": "stdout",
     "output_type": "stream",
     "text": [
      "40 beads left\n"
     ]
    },
    {
     "name": "stdin",
     "output_type": "stream",
     "text": [
      "Choose type: (1 or 2) 2\n",
      "Choose type: (1 or 2) 2\n",
      "Choose type: (1 or 2) 2\n",
      "Choose type: (1 or 2) 2\n",
      "Choose type: (1 or 2) 2\n",
      "Choose type: (1 or 2) 2\n",
      "Choose type: (1 or 2) 2\n",
      "Choose type: (1 or 2) 2\n",
      "Choose type: (1 or 2) 1\n",
      "Choose type: (1 or 2) 1\n"
     ]
    },
    {
     "name": "stdout",
     "output_type": "stream",
     "text": [
      "30 beads left\n"
     ]
    },
    {
     "name": "stdin",
     "output_type": "stream",
     "text": [
      "Choose type: (1 or 2) 1\n",
      "Choose type: (1 or 2) 1\n",
      "Choose type: (1 or 2) 2\n",
      "Choose type: (1 or 2) 2\n",
      "Choose type: (1 or 2) 2\n",
      "Choose type: (1 or 2) 2\n",
      "Choose type: (1 or 2) 2\n"
     ]
    },
    {
     "name": "stdout",
     "output_type": "stream",
     "text": [
      "\n",
      "You have 5 twos left\n",
      "\n"
     ]
    },
    {
     "name": "stdin",
     "output_type": "stream",
     "text": [
      "Choose type: (1 or 2) 2\n",
      "Choose type: (1 or 2) 2\n",
      "Choose type: (1 or 2) 1\n"
     ]
    },
    {
     "name": "stdout",
     "output_type": "stream",
     "text": [
      "20 beads left\n"
     ]
    },
    {
     "name": "stdin",
     "output_type": "stream",
     "text": [
      "Choose type: (1 or 2) 1\n",
      "Choose type: (1 or 2) 1\n",
      "Choose type: (1 or 2) 1\n",
      "Choose type: (1 or 2) 1\n",
      "Choose type: (1 or 2) 2\n",
      "Choose type: (1 or 2) 2\n",
      "Choose type: (1 or 2) 2\n"
     ]
    },
    {
     "name": "stdout",
     "output_type": "stream",
     "text": [
      "\n",
      "You have no twos left\n",
      "\n"
     ]
    },
    {
     "name": "stdin",
     "output_type": "stream",
     "text": [
      "Choose type: (1 or 2) 1\n",
      "Choose type: (1 or 2) 1\n",
      "Choose type: (1 or 2) 1\n"
     ]
    },
    {
     "name": "stdout",
     "output_type": "stream",
     "text": [
      "10 beads left\n"
     ]
    },
    {
     "name": "stdin",
     "output_type": "stream",
     "text": [
      "Choose type: (1 or 2) 1\n",
      "Choose type: (1 or 2) 1\n",
      "Choose type: (1 or 2) 1\n",
      "Choose type: (1 or 2) 1\n",
      "Choose type: (1 or 2) 1\n"
     ]
    },
    {
     "name": "stdout",
     "output_type": "stream",
     "text": [
      "\n",
      "You have 5 ones left\n",
      "\n"
     ]
    },
    {
     "name": "stdin",
     "output_type": "stream",
     "text": [
      "Choose type: (1 or 2) 1\n",
      "Choose type: (1 or 2) 1\n",
      "Choose type: (1 or 2) 1\n",
      "Choose type: (1 or 2) 1\n",
      "Choose type: (1 or 2) 1\n"
     ]
    },
    {
     "name": "stdout",
     "output_type": "stream",
     "text": [
      "\n",
      "You have no ones left\n",
      "\n",
      "0 beads left\n",
      "\n",
      "You have successfully created your chain\n",
      "\n",
      "You have successfully created your chain\n"
     ]
    }
   ],
   "source": [
    "create_chain()"
   ]
  },
  {
   "cell_type": "code",
   "execution_count": 46,
   "id": "3b3698be-ac04-48d0-8709-35acf5d5a26b",
   "metadata": {},
   "outputs": [
    {
     "name": "stdout",
     "output_type": "stream",
     "text": [
      "LAMMPS output is captured by PyLammps wrapper\n"
     ]
    }
   ],
   "source": [
    "L = PyLammps()"
   ]
  },
  {
   "cell_type": "code",
   "execution_count": 47,
   "id": "060c4c64-8a74-4e8f-b330-d0c32e9da248",
   "metadata": {},
   "outputs": [],
   "source": [
    "L.command('units lj')\n",
    "L.command('dimension 3')\n",
    "L.command('atom_style full')\n",
    "L.command('bond_style fene')\n",
    "L.command('pair_style lj/cut 2.5')"
   ]
  },
  {
   "cell_type": "markdown",
   "id": "f5901860-a0e3-4f65-bd1b-9704f8c79a32",
   "metadata": {},
   "source": [
    "#### Read Data"
   ]
  },
  {
   "cell_type": "code",
   "execution_count": 48,
   "id": "1420de37-31d8-440c-a61f-2d88d4243414",
   "metadata": {},
   "outputs": [],
   "source": [
    "L.command('read_data start_new.data')"
   ]
  },
  {
   "cell_type": "markdown",
   "id": "16a4d061-5a8b-4326-a796-cf701201b060",
   "metadata": {},
   "source": [
    "#### Bond"
   ]
  },
  {
   "cell_type": "code",
   "execution_count": 49,
   "id": "2dc86f69-75b2-42e1-aa75-d1389af0e295",
   "metadata": {},
   "outputs": [],
   "source": [
    "L.command('bond_coeff 1 30.00 1.50 1.00 1.00')"
   ]
  },
  {
   "cell_type": "markdown",
   "id": "54492e92-d248-4fe6-a7d4-90b244ce2372",
   "metadata": {},
   "source": [
    "#### Pair Interaction"
   ]
  },
  {
   "cell_type": "code",
   "execution_count": 50,
   "id": "b6ea1018-d919-42f5-8209-0d3e180331be",
   "metadata": {},
   "outputs": [],
   "source": [
    "L.command('pair_coeff 1 1 1.0 1.0 2.5')\n",
    "L.command('pair_coeff 2 2 0.2 1.0 2.5')\n",
    "L.command('pair_coeff 1 2 0.2 1.0 2.5')"
   ]
  },
  {
   "cell_type": "markdown",
   "id": "d5018b15-9694-4577-a7a9-8f529df2696b",
   "metadata": {},
   "source": [
    "#### Group Define"
   ]
  },
  {
   "cell_type": "code",
   "execution_count": 51,
   "id": "22206966-d031-4f45-8f80-5eea2a9ea16b",
   "metadata": {},
   "outputs": [],
   "source": [
    "L.command('special_bonds fene')\n",
    "L.command('pair_modify shift yes')"
   ]
  },
  {
   "cell_type": "markdown",
   "id": "7f5ca135-1be6-4c80-b8a0-f99e14671bf7",
   "metadata": {},
   "source": [
    "#### Velocity"
   ]
  },
  {
   "cell_type": "code",
   "execution_count": 52,
   "id": "aedaea46-ee87-4e88-85bb-113788a9cc40",
   "metadata": {},
   "outputs": [],
   "source": [
    "L.command('velocity all create 1.0 484733 mom yes rot yes dist gaussian')"
   ]
  },
  {
   "cell_type": "markdown",
   "id": "027af79d-d2d4-4b76-bb81-a5833ffd018e",
   "metadata": {},
   "source": [
    "#### Minimise & Fix"
   ]
  },
  {
   "cell_type": "code",
   "execution_count": 53,
   "id": "3061faa5-1b78-48d7-a6d3-a7b1b662d415",
   "metadata": {},
   "outputs": [
    {
     "name": "stdout",
     "output_type": "stream",
     "text": [
      "\n",
      "Nghost:         0.00000 ave           0 max           0 min\n",
      "Histogram: 1 0 0 0 0 0 0 0 0 0\n",
      "Neighs:        1242.00 ave        1242 max        1242 min\n",
      "Histogram: 1 0 0 0 0 0 0 0 0 0\n",
      "\n",
      "Total # of neighbors = 1242\n",
      "Ave neighs/atom = 12.420000\n",
      "Ave special neighs/atom = 1.9800000\n",
      "Neighbor list builds = 97717\n",
      "Dangerous builds = 78546\n",
      "Setting up Verlet run ...\n",
      "  Unit style    : lj\n",
      "  Current step  : 1000087\n",
      "  Time step     : 0.005\n",
      "Per MPI rank memory allocation (min/avg/max) = 6.713 | 6.713 | 6.713 Mbytes\n",
      "Step Temp Press PotEng E_pair \n",
      " 1000087   0.90483776 -0.0014677367    19.609032  -0.96986114 \n",
      " 1100000   0.95242701 0.00038793876    19.336848   -1.2068603 \n",
      " 1200000    1.0201802 0.0025688813    19.324783    -1.155403 \n",
      " 1300000   0.86919116 0.0005774288    19.281687   -1.1918976 \n",
      " 1400000    1.1014353 -0.0014375356    19.386489   -1.1665368 \n",
      " 1500000   0.97636577 0.0018500919    19.465705   -1.0486792 \n",
      " 1600000    1.0447093 -0.0014230539    19.479548   -1.0130909 \n",
      " 1700000    1.0143949 -0.00071334118    19.229821   -1.2804907 \n",
      " 1800000    1.0207961 0.00053355735    19.516089   -1.0079333 \n",
      " 1900000    1.0540161 -0.00034562128    19.541321  -0.94702903 \n",
      " 2000000    1.0434796 -0.00090608402    19.645552  -0.89795371 \n",
      " 2000087     1.111271 -0.0011470813    19.548095   -1.0236998 \n",
      "Loop time of 14.8049 on 1 procs for 1000000 steps with 100 atoms\n",
      "\n",
      "Performance: 29179465.095 tau/day, 67545.058 timesteps/s\n",
      "99.9% CPU use with 1 MPI tasks x 1 OpenMP threads\n",
      "\n",
      "MPI task timing breakdown:\n",
      "Section |  min time  |  avg time  |  max time  |%varavg| %total\n",
      "---------------------------------------------------------------\n",
      "Pair    | 5.9482     | 5.9482     | 5.9482     |   0.0 | 40.18\n",
      "Bond    | 0.84422    | 0.84422    | 0.84422    |   0.0 |  5.70\n",
      "Neigh   | 3.7877     | 3.7877     | 3.7877     |   0.0 | 25.58\n",
      "Comm    | 0.17617    | 0.17617    | 0.17617    |   0.0 |  1.19\n",
      "Output  | 0.012697   | 0.012697   | 0.012697   |   0.0 |  0.09\n",
      "Modify  | 3.8635     | 3.8635     | 3.8635     |   0.0 | 26.10\n",
      "Other   |            | 0.1724     |            |       |  1.16\n",
      "\n",
      "Nlocal:        100.000 ave         100 max         100 min\n",
      "Histogram: 1 0 0 0 0 0 0 0 0 0\n",
      "Nghost:         0.00000 ave           0 max           0 min\n",
      "Histogram: 1 0 0 0 0 0 0 0 0 0\n",
      "Neighs:        1251.00 ave        1251 max        1251 min\n",
      "Histogram: 1 0 0 0 0 0 0 0 0 0\n",
      "\n",
      "Total # of neighbors = 1251\n",
      "Ave neighs/atom = 12.510000\n",
      "Ave special neighs/atom = 1.9800000\n",
      "Neighbor list builds = 98001\n",
      "Dangerous builds = 80899\n",
      "LAMMPS (29 Sep 2021)\n",
      "  using 1 OpenMP thread(s) per MPI task\n",
      "Reading data file ...\n",
      "  orthogonal box = (-20.000000 -20.000000 -20.000000) to (20.000000 20.000000 20.000000)\n",
      "  1 by 1 by 1 MPI processor grid\n",
      "  reading atoms ...\n",
      "  100 atoms\n",
      "  scanning bonds ...\n",
      "  2 = max bonds/atom\n",
      "  reading bonds ...\n",
      "  99 bonds\n",
      "Finding 1-2 1-3 1-4 neighbors ...\n",
      "  special bond factors lj:    0        0        0       \n",
      "  special bond factors coul:  0        0        0       \n",
      "     2 = max # of 1-2 neighbors\n",
      "     2 = max # of 1-3 neighbors\n",
      "     4 = max # of 1-4 neighbors\n",
      "     6 = max # of special neighbors\n",
      "  special bonds CPU = 0.000 seconds\n",
      "  read_data CPU = 0.002 seconds\n",
      "Finding 1-2 1-3 1-4 neighbors ...\n",
      "  special bond factors lj:    0        1        1       \n",
      "  special bond factors coul:  0        1        1       \n",
      "     2 = max # of 1-2 neighbors\n",
      "     6 = max # of special neighbors\n",
      "  special bonds CPU = 0.000 seconds\n",
      "WARNING: Using 'neigh_modify every 1 delay 0 check yes' setting during minimization (src/min.cpp:188)\n",
      "Neighbor list info ...\n",
      "  update every 1 steps, delay 0 steps, check yes\n",
      "  max neighbors/atom: 2000, page size: 100000\n",
      "  master list distance cutoff = 2.8\n",
      "  ghost atom cutoff = 2.8\n",
      "  binsize = 1.4, bins = 29 29 29\n",
      "  1 neighbor lists, perpetual/occasional/extra = 1 0 0\n",
      "  (1) pair lj/cut, perpetual\n",
      "      attributes: half, newton on\n",
      "      pair build: half/bin/newton\n",
      "      stencil: half/bin/3d\n",
      "      bin: standard\n",
      "Setting up cg style minimization ...\n",
      "  Unit style    : lj\n",
      "  Current step  : 0\n",
      "Per MPI rank memory allocation (min/avg/max) = 7.838 | 7.838 | 7.838 Mbytes\n",
      "Step Temp E_pair E_mol TotEng Press \n",
      "   "
     ]
    }
   ],
   "source": [
    "L.command('minimize 1e-4 1e-6 100 1000')"
   ]
  },
  {
   "cell_type": "code",
   "execution_count": 54,
   "id": "c3fc4b8a-0380-4550-a949-d76bb7988504",
   "metadata": {},
   "outputs": [],
   "source": [
    "L.command('fix 1 all nve')\n",
    "L.command('fix 2 all langevin 1.0 1.0 100.0 48279')\n",
    "L.command('fix 3 all momentum 100 linear 1 1 1')"
   ]
  },
  {
   "cell_type": "markdown",
   "id": "ad4a0417-913c-4eb4-bb03-cc68865b4db4",
   "metadata": {},
   "source": [
    "#### Equilibration Run"
   ]
  },
  {
   "cell_type": "code",
   "execution_count": 55,
   "id": "eb29384f-5c6b-4e14-adf3-834657a304bf",
   "metadata": {},
   "outputs": [],
   "source": [
    "L.command('run_style verlet')\n",
    "L.command('timestep 0.005')\n",
    "L.command('thermo 100000')\n",
    "L.command('thermo_style custom step temp press pe epair')\n",
    "L.command('run 1000000')"
   ]
  },
  {
   "cell_type": "markdown",
   "id": "07e6c3fd-184c-4042-afc0-dd10c50e9dd9",
   "metadata": {},
   "source": [
    "#### Production Run"
   ]
  },
  {
   "cell_type": "code",
   "execution_count": 45,
   "id": "50d13a82-77a5-4b41-b109-c31d1c5f9f85",
   "metadata": {},
   "outputs": [
    {
     "ename": "NameError",
     "evalue": "name 'flush' is not defined",
     "output_type": "error",
     "traceback": [
      "\u001b[0;31m---------------------------------------------------------------------------\u001b[0m",
      "\u001b[0;31mNameError\u001b[0m                                 Traceback (most recent call last)",
      "Input \u001b[0;32mIn [45]\u001b[0m, in \u001b[0;36m<cell line: 5>\u001b[0;34m()\u001b[0m\n\u001b[1;32m      3\u001b[0m L\u001b[38;5;241m.\u001b[39mcommand(\u001b[38;5;124m'\u001b[39m\u001b[38;5;124mdump 1 all custom 10000 FENE.lammpstrj id mol type xu yu zu vx vy vz\u001b[39m\u001b[38;5;124m'\u001b[39m)\n\u001b[1;32m      4\u001b[0m L\u001b[38;5;241m.\u001b[39mcommand(\u001b[38;5;124m'\u001b[39m\u001b[38;5;124mrun 1000000\u001b[39m\u001b[38;5;124m'\u001b[39m)\n\u001b[0;32m----> 5\u001b[0m \u001b[43mflush\u001b[49m(stdout)\n",
      "\u001b[0;31mNameError\u001b[0m: name 'flush' is not defined"
     ]
    }
   ],
   "source": [
    "L.command('compute 1 all gyration')\n",
    "L.command('fix RgAve all ave/time 1000 1000 1000000 c_1 file AvgRg.data')\n",
    "L.command('dump 1 all custom 10000 FENE.lammpstrj id mol type xu yu zu vx vy vz')\n",
    "L.command('run 1000000')"
   ]
  },
  {
   "cell_type": "code",
   "execution_count": 32,
   "id": "0171270a-e472-46b9-b7f7-11dd961be57a",
   "metadata": {},
   "outputs": [
    {
     "name": "stdout",
     "output_type": "stream",
     "text": [
      "The radius of gyration is 3.00157\n"
     ]
    }
   ],
   "source": [
    "rg = np.loadtxt('AvgRg.data')[1]\n",
    "print(f'The radius of gyration is {rg}')"
   ]
  },
  {
   "cell_type": "code",
   "execution_count": null,
   "id": "4fa6e56e-df92-4b94-a258-5c69f134cd91",
   "metadata": {},
   "outputs": [],
   "source": []
  }
 ],
 "metadata": {
  "kernelspec": {
   "display_name": "Python 3 (ipykernel)",
   "language": "python",
   "name": "python3"
  },
  "language_info": {
   "codemirror_mode": {
    "name": "ipython",
    "version": 3
   },
   "file_extension": ".py",
   "mimetype": "text/x-python",
   "name": "python",
   "nbconvert_exporter": "python",
   "pygments_lexer": "ipython3",
   "version": "3.9.9"
  }
 },
 "nbformat": 4,
 "nbformat_minor": 5
}
