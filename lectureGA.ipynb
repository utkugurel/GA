{
 "cells": [
  {
   "cell_type": "code",
   "execution_count": null,
   "id": "21abd9d9-bd35-4484-ab75-3bccb2217498",
   "metadata": {},
   "outputs": [],
   "source": [
    "import numpy as np\n",
    "from lammps import PyLammps\n",
    "from moduleGA import create_chain"
   ]
  },
  {
   "cell_type": "code",
   "execution_count": null,
   "id": "f358ef4f-cc63-4613-bd54-928dda38ee13",
   "metadata": {},
   "outputs": [],
   "source": [
    "create_chain()"
   ]
  },
  {
   "cell_type": "code",
   "execution_count": null,
   "id": "3b3698be-ac04-48d0-8709-35acf5d5a26b",
   "metadata": {},
   "outputs": [],
   "source": [
    "L = PyLammps()"
   ]
  },
  {
   "cell_type": "code",
   "execution_count": null,
   "id": "060c4c64-8a74-4e8f-b330-d0c32e9da248",
   "metadata": {},
   "outputs": [],
   "source": [
    "L.command('units lj')\n",
    "L.command('dimension 3')\n",
    "L.command('atom_style full')\n",
    "L.command('bond_style fene')\n",
    "L.command('pair_style lj/cut 2.5')"
   ]
  },
  {
   "cell_type": "markdown",
   "id": "f5901860-a0e3-4f65-bd1b-9704f8c79a32",
   "metadata": {},
   "source": [
    "#### Read Data"
   ]
  },
  {
   "cell_type": "code",
   "execution_count": null,
   "id": "1420de37-31d8-440c-a61f-2d88d4243414",
   "metadata": {},
   "outputs": [],
   "source": [
    "L.command('read_data start_new.data')"
   ]
  },
  {
   "cell_type": "markdown",
   "id": "16a4d061-5a8b-4326-a796-cf701201b060",
   "metadata": {},
   "source": [
    "#### Bond"
   ]
  },
  {
   "cell_type": "code",
   "execution_count": null,
   "id": "2dc86f69-75b2-42e1-aa75-d1389af0e295",
   "metadata": {},
   "outputs": [],
   "source": [
    "L.command('bond_coeff 1 30.00 1.50 1.00 1.00')"
   ]
  },
  {
   "cell_type": "markdown",
   "id": "54492e92-d248-4fe6-a7d4-90b244ce2372",
   "metadata": {},
   "source": [
    "#### Pair Interaction"
   ]
  },
  {
   "cell_type": "code",
   "execution_count": null,
   "id": "b6ea1018-d919-42f5-8209-0d3e180331be",
   "metadata": {},
   "outputs": [],
   "source": [
    "L.command('pair_coeff 1 1 1.0 1.0 2.5')\n",
    "L.command('pair_coeff 2 2 0.2 1.0 2.5')\n",
    "L.command('pair_coeff 1 2 0.2 1.0 2.5')"
   ]
  },
  {
   "cell_type": "markdown",
   "id": "d5018b15-9694-4577-a7a9-8f529df2696b",
   "metadata": {},
   "source": [
    "#### Group Define"
   ]
  },
  {
   "cell_type": "code",
   "execution_count": null,
   "id": "22206966-d031-4f45-8f80-5eea2a9ea16b",
   "metadata": {},
   "outputs": [],
   "source": [
    "L.command('special_bonds fene')\n",
    "L.command('pair_modify shift yes')"
   ]
  },
  {
   "cell_type": "markdown",
   "id": "7f5ca135-1be6-4c80-b8a0-f99e14671bf7",
   "metadata": {},
   "source": [
    "#### Velocity"
   ]
  },
  {
   "cell_type": "code",
   "execution_count": null,
   "id": "aedaea46-ee87-4e88-85bb-113788a9cc40",
   "metadata": {},
   "outputs": [],
   "source": [
    "L.command('velocity all create 1.0 484733 mom yes rot yes dist gaussian')"
   ]
  },
  {
   "cell_type": "markdown",
   "id": "027af79d-d2d4-4b76-bb81-a5833ffd018e",
   "metadata": {},
   "source": [
    "#### Minimise & Fix"
   ]
  },
  {
   "cell_type": "code",
   "execution_count": null,
   "id": "3061faa5-1b78-48d7-a6d3-a7b1b662d415",
   "metadata": {},
   "outputs": [],
   "source": [
    "L.command('minimize 1e-4 1e-6 100 1000')"
   ]
  },
  {
   "cell_type": "code",
   "execution_count": null,
   "id": "c3fc4b8a-0380-4550-a949-d76bb7988504",
   "metadata": {},
   "outputs": [],
   "source": [
    "L.command('fix 1 all nve')\n",
    "L.command('fix 2 all langevin 1.0 1.0 100.0 48279')\n",
    "L.command('fix 3 all momentum 100 linear 1 1 1')"
   ]
  },
  {
   "cell_type": "markdown",
   "id": "ad4a0417-913c-4eb4-bb03-cc68865b4db4",
   "metadata": {},
   "source": [
    "#### Equilibration Run"
   ]
  },
  {
   "cell_type": "code",
   "execution_count": null,
   "id": "eb29384f-5c6b-4e14-adf3-834657a304bf",
   "metadata": {},
   "outputs": [],
   "source": [
    "L.command('run_style verlet')\n",
    "L.command('timestep 0.005')\n",
    "L.command('thermo 100000')\n",
    "L.command('thermo_style custom step temp press pe epair')\n",
    "L.command('run 1000000')"
   ]
  },
  {
   "cell_type": "markdown",
   "id": "07e6c3fd-184c-4042-afc0-dd10c50e9dd9",
   "metadata": {},
   "source": [
    "#### Production Run"
   ]
  },
  {
   "cell_type": "code",
   "execution_count": null,
   "id": "50d13a82-77a5-4b41-b109-c31d1c5f9f85",
   "metadata": {},
   "outputs": [],
   "source": [
    "L.command('compute 1 all gyration')\n",
    "L.command('fix RgAve all ave/time 1000 1000 1000000 c_1 file AvgRg.data')\n",
    "L.command('dump 1 all custom 10000 FENE.lammpstrj id mol type xu yu zu vx vy vz')\n",
    "L.command('run 1000000')"
   ]
  },
  {
   "cell_type": "code",
   "execution_count": null,
   "id": "0171270a-e472-46b9-b7f7-11dd961be57a",
   "metadata": {},
   "outputs": [],
   "source": [
    "rg = np.loadtxt('AvgRg.data')[1]\n",
    "print(f'The radius of gyration is {rg}')"
   ]
  }
 ],
 "metadata": {
  "kernelspec": {
   "display_name": "Python 3 (ipykernel)",
   "language": "python",
   "name": "python3"
  },
  "language_info": {
   "codemirror_mode": {
    "name": "ipython",
    "version": 3
   },
   "file_extension": ".py",
   "mimetype": "text/x-python",
   "name": "python",
   "nbconvert_exporter": "python",
   "pygments_lexer": "ipython3",
   "version": "3.8.13"
  }
 },
 "nbformat": 4,
 "nbformat_minor": 5
}
